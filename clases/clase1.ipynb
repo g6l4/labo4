{
 "cells": [
  {
   "cell_type": "markdown",
   "metadata": {},
   "source": [
    "Resistividad - Lock in - diego shalom"
   ]
  },
  {
   "cell_type": "code",
   "execution_count": null,
   "metadata": {},
   "outputs": [],
   "source": [
    "import numpy as np\n",
    "import matplotlib.pyplot as plt\n",
    "from numpy.fft import fft\n",
    "from scipy.signal import butter,lfilter"
   ]
  },
  {
   "cell_type": "code",
   "execution_count": null,
   "metadata": {},
   "outputs": [],
   "source": [
    "Fs = 100000;           #[Hz ] Sampling frequency                    \n",
    "T = 1/Fs;              #[s] Sampling period       \n",
    "L = 20000;             #[samples] Length of signal\n",
    "t = np.array(range(0,L))*T;         #[s] Time vector\n",
    "MaxT = L/Fs;           #[s] Tiempo maximo\n",
    "\n",
    "A1 = 8;                #[V] amplitud\n",
    "A2 = 4;                #[V] amplitud\n",
    "FREC = 200;            #[Hz] Frecuencia de la señal y la referencia\n",
    "OMEGA = FREC*2*np.pi;     #[rad/s] frecuencia angular\n",
    "FASE1 = 0;             #[rad] Fase de la señal respecto a la referencia\n",
    "FASE2 = np.pi/2;          #[rad] Fase de la señal respecto a la referencia\n",
    "ruido = 4;             #[V] ruido\n",
    "timeconstant=0.02;     #[s] Constante de tiempo del lockin, para el filtro"
   ]
  },
  {
   "cell_type": "code",
   "execution_count": null,
   "metadata": {},
   "outputs": [],
   "source": [
    "#Armo la señal con dos tramos de distinta amplitud y fase, y le sumo ruido\n",
    "SENIAL=np.concatenate([A1*np.sin(OMEGA*t[:int(L/2)]+FASE1), A2*np.sin(OMEGA*t[int((L/2)):]+FASE2)])\n",
    "RUIDO = ruido*np.random.randn(len(SENIAL));\n",
    "ORIGINAL = SENIAL + RUIDO;"
   ]
  },
  {
   "cell_type": "code",
   "execution_count": null,
   "metadata": {},
   "outputs": [],
   "source": [
    "#Referencia\n",
    "REFERENCIA1 = np.sin(OMEGA*t);#referencia en fase\n",
    "REFERENCIA2 = np.cos(OMEGA*t);#referencia en cuadratura\n",
    "\n",
    "plt.clf()\n",
    "plt.subplot(3,2,1)\n",
    "plt.plot(t,ORIGINAL,t,SENIAL,t,REFERENCIA1)\n",
    "plt.ylabel('Señal original [V]')\n",
    "plt.xlabel('Tiempo [s]')\n",
    "plt.grid(True)\n",
    "plt.legend(['Señal con ruido','Señal','Referencia en fase'])\n",
    "\n",
    "\n",
    "plt.subplot(3,2,2)\n",
    "Y = fft(ORIGINAL);\n",
    "frecuencia = np.arange(len(Y))*Fs/(len(Y))\n",
    "plt.semilogy(frecuencia,np.abs(Y),'-') \n",
    "plt.ylabel('Potencia Original ')\n",
    "plt.xlabel('Frecuencia [Hz]')\n",
    "plt.grid(True)\n",
    "plt.xlim([0, 2000])"
   ]
  },
  {
   "cell_type": "code",
   "execution_count": null,
   "metadata": {},
   "outputs": [],
   "source": [
    "#PSD\n",
    "PSD1 = 2 * ORIGINAL * REFERENCIA1\n",
    "PSD2 = 2 * ORIGINAL * REFERENCIA2\n",
    "\n",
    "#PSD\n",
    "plt.subplot(3,2,3)\n",
    "plt.plot(t,PSD1)\n",
    "plt.ylabel('Señal PSD [V]')\n",
    "plt.xlabel('Tiempo [s]')\n",
    "plt.grid(True)\n",
    "\n",
    "#FFT PSD\n",
    "plt.subplot(3,2,4)\n",
    "Y = fft(PSD1)\n",
    "frecuencia = np.arange(len(Y))*Fs/(len(Y))\n",
    "plt.semilogy(frecuencia,np.abs(Y),'-') \n",
    "plt.ylabel('Potencia PSD ')\n",
    "plt.xlabel('Frecuencia [Hz]')\n",
    "plt.grid(True)\n",
    "plt.xlim([0, 2000])"
   ]
  },
  {
   "cell_type": "code",
   "execution_count": null,
   "metadata": {},
   "outputs": [
    {
     "name": "stdout",
     "output_type": "stream",
     "text": [
      "1\n"
     ]
    }
   ],
   "source": [
    "#Filtro la señal que sale del PSD \n",
    "plt.subplot(3,2,5)\n",
    "\n",
    "def butter_lowpass_filter(data, cutoff, fs, order):    \n",
    "    nyq = 0.5 * fs  # Nyquist Frequency\n",
    "    normal_cutoff = cutoff / nyq\n",
    "    # Get the filter coefficients \n",
    "    b, a = butter(order, normal_cutoff, btype='low', analog=False)\n",
    "    y = lfilter(b, a, data)\n",
    "    return y\n",
    "\n",
    "# Filter requirements.\n",
    "cutoff = 1/timeconstant  #[Hz] Frecuencia de corte\n",
    "order = 2       # sin wave can be approx represented as quadratic\n",
    "\n",
    "PSD1FILTRADA = butter_lowpass_filter(PSD1, cutoff, Fs, order)\n",
    "PSD2FILTRADA = butter_lowpass_filter(PSD2, cutoff, Fs, order)\n",
    "\n",
    "#filtrada\n",
    "plt.plot(t,PSD1FILTRADA)\n",
    "plt.plot(t,PSD2FILTRADA)\n",
    "plt.ylabel('PSD Filtrada [V]')\n",
    "plt.xlabel('Tiempo [s]')\n",
    "plt.grid(True)\n",
    "plt.legend(['X ','Y '])\n",
    "\n",
    "#FFR PDF Filtrada\n",
    "plt.subplot(3,2,6)\n",
    "Y = fft(PSD1FILTRADA)\n",
    "frecuencia = np.arange(len(Y))*Fs/(len(Y))\n",
    "plt.semilogy(frecuencia,np.abs(Y),'-') \n",
    "plt.ylabel('Potencia PSD Filtrada')\n",
    "plt.xlabel('Frecuencia [Hz]')\n",
    "plt.grid(True)\n",
    "plt.xlim([0, 2000])\n",
    "\n",
    "plt.show()"
   ]
  }
 ],
 "metadata": {
  "kernelspec": {
   "display_name": "Python 3",
   "language": "python",
   "name": "python3"
  },
  "language_info": {
   "codemirror_mode": {
    "name": "ipython",
    "version": 3
   },
   "file_extension": ".py",
   "mimetype": "text/x-python",
   "name": "python",
   "nbconvert_exporter": "python",
   "pygments_lexer": "ipython3",
   "version": "3.11.2"
  }
 },
 "nbformat": 4,
 "nbformat_minor": 2
}
